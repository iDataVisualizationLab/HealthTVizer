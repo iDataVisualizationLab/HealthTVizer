{
 "cells": [
  {
   "cell_type": "code",
   "execution_count": 2,
   "metadata": {
    "collapsed": true
   },
   "outputs": [],
   "source": [
    "import pandas as pd\n",
    "import matplotlib.pyplot as plt\n",
    "import numpy as np\n",
    "\n",
    "%matplotlib inline"
   ]
  },
  {
   "cell_type": "code",
   "execution_count": 27,
   "metadata": {
    "collapsed": false
   },
   "outputs": [],
   "source": [
    "# stopTerm = pd.read_csv(\"./stopTerm\")\n",
    "# stopTermLength = len(stopTerm)\n",
    "\n",
    "# outputFileName = 'diseaseData07.csv'\n",
    "myData = []\n",
    "add = \"/Users/soniabaee/Desktop/CrowdSensing/Twitter-Data/US-Twitter-Jan2017/2017_01_18_stream.txt\"\n",
    "tempVal3 = open(add)\n",
    "myData.append(tempVal3.readlines())"
   ]
  },
  {
   "cell_type": "code",
   "execution_count": 28,
   "metadata": {
    "collapsed": false
   },
   "outputs": [
    {
     "data": {
      "text/plain": [
       "['821597723099099136',\n",
       " \"I didn't think that Monica dying on Shameless would effect me so much 😭\",\n",
       " 'null',\n",
       " '<a href=\"http://twitter.com/download/android\" rel=\"nofollow\">Twitter for Android</a>',\n",
       " 'false',\n",
       " '1',\n",
       " 'Tue Jan 17 23:58:56 CST 2017',\n",
       " '',\n",
       " '-1',\n",
       " 'en',\n",
       " '1031656531',\n",
       " 'http://pbs.twimg.com/profile_background_images/378800000175134219/48jsfFeC.jpeg',\n",
       " 'jeseniasalas14',\n",
       " '1b14360b25ca39bc',\n",
       " 'Ligonier',\n",
       " 'Ligonier, IN',\n",
       " 'United States',\n",
       " 'city',\n",
       " 'null',\n",
       " '(41.450815,-85.613332),(41.481306,-85.613332),(41.481306,-85.567233),(41.450815,-85.567233),',\n",
       " 'Polygon',\n",
       " 'https://api.twitter.com/1.1/geo/id/1b14360b25ca39bc.json',\n",
       " 'Jesenia S.',\n",
       " 'Ligonier, IN',\n",
       " '24298',\n",
       " '1183',\n",
       " '1056',\n",
       " 'Sun Dec 23 18:59:08 CST 2012\\n']"
      ]
     },
     "execution_count": 28,
     "metadata": {},
     "output_type": "execute_result"
    }
   ],
   "source": [
    "myData[0][0].split('\\x01')"
   ]
  },
  {
   "cell_type": "code",
   "execution_count": 25,
   "metadata": {
    "collapsed": false
   },
   "outputs": [],
   "source": [
    "cnt = 0\n",
    "for i in range(0,len(myData[0])):\n",
    "    noTweets = len(myData[0][i].split('\\x01'))\n",
    "    if noTweets > 13:\n",
    "        if myData[0][i].split('\\x01')[22] == \"DwightJasonBain\":\n",
    "            cnt = cnt + 1;"
   ]
  },
  {
   "cell_type": "code",
   "execution_count": 3,
   "metadata": {
    "collapsed": false,
    "scrolled": false
   },
   "outputs": [],
   "source": [
    "dTemp = pd.ExcelFile(\"./Data/diseasehashtag.xlsx\")\n",
    "# cancerData = dTemp.parse(\"cancer\")\n",
    "# cancerData = pd.DataFrame(cancerData.values)\n",
    "# cancerTag = []\n",
    "# for i1 in range(len(cancerData)):\n",
    "#     for i2 in range(len(cancerData[0][i1].split(',\\xa0'))):\n",
    "#         cancerTag.append(cancerData[0][i1].split(',\\xa0')[i2])\n",
    "\n",
    "# cancerTag = [x.lower().replace('#',\"\") for x in cancerTag]\n",
    "\n",
    "# BloodData = dTemp.parse(\"Blood\")\n",
    "# BloodData = pd.DataFrame(BloodData.values)\n",
    "# BloodTag = []\n",
    "# for i1 in range(len(BloodData)):\n",
    "#     for i2 in range(len(BloodData[0][i1].split(',\\xa0'))):\n",
    "#         BloodTag.append(BloodData[0][i1].split(',\\xa0')[i2])\n",
    "# BloodTag = [x.lower().replace('#',\"\") for x in BloodTag]\n",
    "\n",
    "# CardiovascularData = dTemp.parse(\"Cardiovascular\")\n",
    "# CardiovascularData = pd.DataFrame(CardiovascularData.values)\n",
    "# CardiovascularTag = []\n",
    "# for i1 in range(len(CardiovascularData)):\n",
    "#     for i2 in range(len(CardiovascularData[0][i1].split(',\\xa0'))):\n",
    "#         CardiovascularTag.append(CardiovascularData[0][i1].split(',\\xa0')[i2])\n",
    "# CardiovascularTag = [x.lower().replace('#',\"\") for x in CardiovascularTag]\n",
    "\n",
    "# CongenitalAnomoliesData = dTemp.parse(\"CongenitalAnomolies\")\n",
    "# CongenitalAnomoliesData = pd.DataFrame(CongenitalAnomoliesData.values)\n",
    "# CongenitalAnomoliesTag = []\n",
    "# for i1 in range(len(CongenitalAnomoliesData)):\n",
    "#     for i2 in range(len(CongenitalAnomoliesData[0][i1].split(',\\xa0'))):\n",
    "#         CongenitalAnomoliesTag.append(CongenitalAnomoliesData[0][i1].split(',\\xa0')[i2])\n",
    "# CongenitalAnomoliesTag = [x.lower().replace('#',\"\") for x in CongenitalAnomoliesTag]\n",
    "\n",
    "\n",
    "# DigestiveData = dTemp.parse(\"Digestive\")\n",
    "# DigestiveData = pd.DataFrame(DigestiveData.values)\n",
    "# DigestiveTag = []\n",
    "# for i1 in range(len(DigestiveData)):\n",
    "#     for i2 in range(len(DigestiveData[0][i1].split(',\\xa0'))):\n",
    "#         DigestiveTag.append(DigestiveData[0][i1].split(',\\xa0')[i2])\n",
    "# DigestiveTag = [x.lower().replace('#',\"\") for x in DigestiveTag]\n",
    "\n",
    "\n",
    "EndocrineData = dTemp.parse(\"Endocrine\")\n",
    "EndocrineData = pd.DataFrame(EndocrineData.values)\n",
    "EndocrineTag = []\n",
    "for i1 in range(len(EndocrineData)):\n",
    "    for i2 in range(len(EndocrineData[0][i1].split(',\\xa0'))):\n",
    "        EndocrineTag.append(EndocrineData[0][i1].split(',\\xa0')[i2])\n",
    "EndocrineTag = [x.lower().replace('#',\"\") for x in EndocrineTag]\n",
    "\n",
    "\n",
    "# ExcretoryData = dTemp.parse(\"Excretory\")\n",
    "# ExcretoryData = pd.DataFrame(ExcretoryData.values)\n",
    "# ExcretoryTag = []\n",
    "# for i1 in range(len(ExcretoryData)):\n",
    "#     for i2 in range(len(ExcretoryData[0][i1].split(',\\xa0'))):\n",
    "#         ExcretoryTag.append(ExcretoryData[0][i1].split(',\\xa0')[i2])\n",
    "# ExcretoryTag = [x.lower().replace('#',\"\") for x in ExcretoryTag]\n",
    "\n",
    "\n",
    "# RareDiseasesData = dTemp.parse(\"RareDiseases\")\n",
    "# RareDiseasesData = pd.DataFrame(RareDiseasesData.values)\n",
    "# RareDiseasesTag = []\n",
    "# for i1 in range(len(RareDiseasesData)):\n",
    "#     for i2 in range(len(RareDiseasesData[0][i1].split(',\\xa0'))):\n",
    "#         RareDiseasesTag.append(RareDiseasesData[0][i1].split(',\\xa0')[i2])\n",
    "# RareDiseasesTag = [x.lower().replace('#',\"\") for x in RareDiseasesTag]\n",
    "\n",
    "\n",
    "# ImmuneData = dTemp.parse(\"Immune\")\n",
    "# ImmuneData = pd.DataFrame(ImmuneData.values)\n",
    "# ImmuneTag = []\n",
    "# for i1 in range(len(ImmuneData)):\n",
    "#     for i2 in range(len(ImmuneData[0][i1].split(',\\xa0'))):\n",
    "#         ImmuneTag.append(ImmuneData[0][i1].split(',\\xa0')[i2])\n",
    "# ImmuneTag = [x.lower().replace('#',\"\") for x in ImmuneTag]\n",
    "\n",
    "# LymphaticData = dTemp.parse(\"Lymphatic\")\n",
    "# LymphaticData = pd.DataFrame(LymphaticData.values)\n",
    "# LymphaticTag = []\n",
    "# for i1 in range(len(LymphaticData)):\n",
    "#     for i2 in range(len(LymphaticData[0][i1].split(',\\xa0'))):\n",
    "#         LymphaticTag.append(LymphaticData[0][i1].split(',\\xa0')[i2])\n",
    "# LymphaticTag = [x.lower().replace('#',\"\") for x in LymphaticTag]\n",
    "\n",
    "\n",
    "\n",
    "# MetabolicData = dTemp.parse(\"Metabolic\")\n",
    "# MetabolicData = pd.DataFrame(MetabolicData.values)\n",
    "# MetabolicTag = []\n",
    "# for i1 in range(len(MetabolicData)):\n",
    "#     for i2 in range(len(MetabolicData[0][i1].split(',\\xa0'))):\n",
    "#         MetabolicTag.append(MetabolicData[0][i1].split(',\\xa0')[i2])\n",
    "# MetabolicTag = [x.lower().replace('#',\"\") for x in MetabolicTag]\n",
    "\n",
    "\n",
    "\n",
    "# MusculoskeletalData = dTemp.parse(\"Musculoskeletal\")\n",
    "# MusculoskeletalData = pd.DataFrame(MusculoskeletalData.values)\n",
    "# MusculoskeletalTag = []\n",
    "# for i1 in range(len(MusculoskeletalData)):\n",
    "#     for i2 in range(len(MusculoskeletalData[0][i1].split(',\\xa0'))):\n",
    "#         MusculoskeletalTag.append(MusculoskeletalData[0][i1].split(',\\xa0')[i2])\n",
    "# MusculoskeletalTag = [x.lower().replace('#',\"\") for x in MusculoskeletalTag]\n",
    "\n",
    "\n",
    "# MultipleData = dTemp.parse(\"Multiple\")\n",
    "# MultipleData = pd.DataFrame(MultipleData.values)\n",
    "# MultipleTag = []\n",
    "# for i1 in range(len(MultipleData)):\n",
    "#     for i2 in range(len(MultipleData[0][i1].split(',\\xa0'))):\n",
    "#         MultipleTag.append(MultipleData[0][i1].split(',\\xa0')[i2])\n",
    "# MultipleTag = [x.lower().replace('#',\"\") for x in MultipleTag]\n",
    "\n",
    "# NeurologicalData = dTemp.parse(\"Neurological\")\n",
    "# NeurologicalData = pd.DataFrame(NeurologicalData.values)\n",
    "# NeurologicalTag = []\n",
    "# for i1 in range(len(NeurologicalData)):\n",
    "#     for i2 in range(len(NeurologicalData[0][i1].split(',\\xa0'))):\n",
    "#         NeurologicalTag.append(NeurologicalData[0][i1].split(',\\xa0')[i2])\n",
    "# NeurologicalTag = [x.lower().replace('#',\"\") for x in NeurologicalTag]\n",
    "\n",
    "\n",
    "# InfectiousParasiticData = dTemp.parse(\"InfectiousParasitic\")\n",
    "# InfectiousParasiticData = pd.DataFrame(InfectiousParasiticData.values)\n",
    "# InfectiousParasiticTag = []\n",
    "# for i1 in range(len(InfectiousParasiticData)):\n",
    "#     for i2 in range(len(InfectiousParasiticData[0][i1].split(',\\xa0'))):\n",
    "#         InfectiousParasiticTag.append(InfectiousParasiticData[0][i1].split(',\\xa0')[i2])\n",
    "# InfectiousParasiticTag = [x.lower().replace('#',\"\") for x in InfectiousParasiticTag]\n",
    "\n",
    "\n",
    "# PsychData = dTemp.parse(\"Psych\")\n",
    "# PsychData = pd.DataFrame(PsychData.values)\n",
    "# PsychTag = []\n",
    "# for i1 in range(len(PsychData)):\n",
    "#     for i2 in range(len(PsychData[0][i1].split(',\\xa0'))):\n",
    "#         PsychTag.append(PsychData[0][i1].split(',\\xa0')[i2])\n",
    "# PsychTag = [x.lower().replace('#',\"\") for x in PsychTag]\n",
    "\n",
    "\n",
    "# ReproductiveData = dTemp.parse(\"Reproductive\")\n",
    "# ReproductiveData = pd.DataFrame(ReproductiveData.values)\n",
    "# ReproductiveTag = []\n",
    "# for i1 in range(len(ReproductiveData)):\n",
    "#     for i2 in range(len(ReproductiveData[0][i1].split(',\\xa0'))):\n",
    "#         ReproductiveTag.append(ReproductiveData[0][i1].split(',\\xa0')[i2])\n",
    "# ReproductiveTag = [x.lower().replace('#',\"\") for x in ReproductiveTag]\n",
    "\n",
    "\n",
    "# RespiratoryData = dTemp.parse(\"Respiratory\")\n",
    "# RespiratoryData = pd.DataFrame(RespiratoryData.values)\n",
    "# RespiratoryTag = []\n",
    "# for i1 in range(len(RespiratoryData)):\n",
    "#     for i2 in range(len(RespiratoryData[0][i1].split(',\\xa0'))):\n",
    "#         RespiratoryTag.append(RespiratoryData[0][i1].split(',\\xa0')[i2])\n",
    "# RespiratoryTag = [x.lower().replace('#',\"\") for x in RespiratoryTag]\n",
    "\n",
    "\n",
    "# SenseOrgansData = dTemp.parse(\"SenseOrgans\")\n",
    "# SenseOrgansData = pd.DataFrame(SenseOrgansData.values)\n",
    "# SenseOrgansTag = []\n",
    "# for i1 in range(len(SenseOrgansData)):\n",
    "#     for i2 in range(len(SenseOrgansData[0][i1].split(',\\xa0'))):\n",
    "#         SenseOrgansTag.append(SenseOrgansData[0][i1].split(',\\xa0')[i2])\n",
    "# SenseOrgansTag = [x.lower().replace('#',\"\") for x in SenseOrgansTag]\n",
    "\n",
    "\n",
    "# SkinData = dTemp.parse(\"Skin\")\n",
    "# SkinData = pd.DataFrame(SkinData.values)\n",
    "# SkinTag = []\n",
    "# for i1 in range(len(SkinData)):\n",
    "#     for i2 in range(len(SkinData[0][i1].split(',\\xa0'))):\n",
    "#         SkinTag.append(SkinData[0][i1].split(',\\xa0')[i2])\n",
    "# SkinTag = [x.lower().replace('#',\"\") for x in SkinTag]\n",
    "\n",
    "\n",
    "# InjuryData = dTemp.parse(\"Injury\")\n",
    "# InjuryData = pd.DataFrame(InjuryData.values)\n",
    "# InjuryTag = []\n",
    "# for i1 in range(len(InjuryData)):\n",
    "#     for i2 in range(len(InjuryData[0][i1].split(',\\xa0'))):\n",
    "#         InjuryTag.append(InjuryData[0][i1].split(',\\xa0')[i2])\n",
    "# InjuryTag = [x.lower().replace('#',\"\") for x in InjuryTag]\n"
   ]
  },
  {
   "cell_type": "markdown",
   "metadata": {},
   "source": [
    "Twitter Data"
   ]
  },
  {
   "cell_type": "code",
   "execution_count": 11,
   "metadata": {
    "collapsed": false
   },
   "outputs": [
    {
     "ename": "IndexError",
     "evalue": "list index out of range",
     "output_type": "error",
     "traceback": [
      "\u001b[0;31m---------------------------------------------------------------------------\u001b[0m",
      "\u001b[0;31mIndexError\u001b[0m                                Traceback (most recent call last)",
      "\u001b[0;32m<ipython-input-11-ee5734673514>\u001b[0m in \u001b[0;36m<module>\u001b[0;34m()\u001b[0m\n\u001b[0;32m----> 1\u001b[0;31m \u001b[0mmyData\u001b[0m\u001b[0;34m[\u001b[0m\u001b[0;36m1\u001b[0m\u001b[0;34m]\u001b[0m\u001b[0;34m[\u001b[0m\u001b[0;36m1\u001b[0m\u001b[0;34m]\u001b[0m\u001b[0;34m.\u001b[0m\u001b[0msplit\u001b[0m\u001b[0;34m(\u001b[0m\u001b[0;34m'\\x01'\u001b[0m\u001b[0;34m)\u001b[0m\u001b[0;34m[\u001b[0m\u001b[0;36m12\u001b[0m\u001b[0;34m]\u001b[0m\u001b[0;34m\u001b[0m\u001b[0m\n\u001b[0m",
      "\u001b[0;31mIndexError\u001b[0m: list index out of range"
     ]
    }
   ],
   "source": []
  },
  {
   "cell_type": "code",
   "execution_count": null,
   "metadata": {
    "collapsed": false
   },
   "outputs": [],
   "source": []
  },
  {
   "cell_type": "code",
   "execution_count": 4,
   "metadata": {
    "collapsed": true
   },
   "outputs": [],
   "source": [
    "# Creates a list containing len(myData) lists, each of 2 items, all set to 0\n",
    "w, h = 4, len(myData);"
   ]
  },
  {
   "cell_type": "code",
   "execution_count": 5,
   "metadata": {
    "collapsed": false
   },
   "outputs": [],
   "source": [
    "temp = [[0 for x in range(w)]] \n",
    "tempSplit = []\n"
   ]
  },
  {
   "cell_type": "code",
   "execution_count": 6,
   "metadata": {
    "collapsed": false
   },
   "outputs": [],
   "source": [
    "cntSplit = 0\n",
    "noDays = len(myData)\n",
    "for i in range(0,noDays):\n",
    "    noTweets = len(myData[i])\n",
    "    for j in range(0,noTweets):\n",
    "        splitTemp = myData[i][j].split('\\x01')\n",
    "        content = len(splitTemp)\n",
    "        if content > 15:\n",
    "            temp = [[0 for x in range(w)]] \n",
    "            temp[0][0]= splitTemp[1].lower().split() # the content of tweet\n",
    "            temp[0][1] = splitTemp[6] # the time stamp\n",
    "            temp[0][2] = splitTemp[15] # the location of tweet\n",
    "            temp[0][3] = splitTemp[12] #UserID\n",
    "            tempSplit.append(temp)"
   ]
  },
  {
   "cell_type": "code",
   "execution_count": null,
   "metadata": {
    "collapsed": false,
    "scrolled": true
   },
   "outputs": [
    {
     "data": {
      "text/plain": [
       "2282000"
      ]
     },
     "execution_count": 7,
     "metadata": {},
     "output_type": "execute_result"
    }
   ],
   "source": [
    "noMeaningfulTweets = len(tempSplit)\n",
    "noMeaningfulTweets\n"
   ]
  },
  {
   "cell_type": "markdown",
   "metadata": {},
   "source": [
    "tData = [[0 for x in range(w)] for y in range(h)] "
   ]
  },
  {
   "cell_type": "markdown",
   "metadata": {},
   "source": [
    "Health topics - Stop Terms"
   ]
  },
  {
   "cell_type": "code",
   "execution_count": null,
   "metadata": {
    "collapsed": false
   },
   "outputs": [],
   "source": [
    "sharedEndocrine = []\n",
    "for i in range(0,noMeaningfulTweets):\n",
    "    intersectionSet = set(EndocrineTag).intersection(tempSplit[i][0][0])\n",
    "    common = len(intersectionSet)\n",
    "    if common > 0:\n",
    "        tempEndocrine = [[0 for x in range(2)]]\n",
    "        tempEndocrine[0][0] = intersectionSet\n",
    "        tempEndocrine[0][1] = i\n",
    "        sharedEndocrine.append(tempEndocrine)\n",
    "\n",
    "\n",
    "length = len(sharedEndocrine)\n",
    "for i in range(0,length):\n",
    "    for j in range(0, stopTermLength):\n",
    "        intersectionSet = set(stopTerm.values[j][0]).intersection(tempSplit[sharedEndocrine[i][0][1]][0][0])\n",
    "        intersectionSet = list(intersectionSet)\n",
    "        if len(intersectionSet) > 0:\n",
    "            for r in range(0,len(intersectionSet)):\n",
    "                tempSplit[sharedEndocrine[i][0][1]][0][0].remove(intersectionSet[r])\n",
    "\n"
   ]
  },
  {
   "cell_type": "code",
   "execution_count": null,
   "metadata": {
    "collapsed": false
   },
   "outputs": [],
   "source": [
    "# sharedInjury = []\n",
    "# for i in range(0,noMeaningfulTweets):\n",
    "#     intersectionSet = set(InjuryTag).intersection(tempSplit[i][0][0])\n",
    "#     common = len(intersectionSet)\n",
    "#     if common > 0:\n",
    "#         tempT = [[0 for x in range(2)]]\n",
    "#         tempT[0][0] = intersectionSet\n",
    "#         tempT[0][1] = i\n",
    "#         sharedInjury.append(tempT)\n",
    "\n",
    "\n",
    "# length = len(sharedInjury)\n",
    "# for i in range(0,length):\n",
    "#     for j in range(0, stopTermLength):\n",
    "#         intersectionSet = set(stopTerm.values[j][0]).intersection(tempSplit[sharedInjury[i][0][1]][0][0])\n",
    "#         intersectionSet = list(intersectionSet)\n",
    "#         if len(intersectionSet) > 0:\n",
    "#             for r in range(0,len(intersectionSet)):\n",
    "#                 tempSplit[sharedInjury[i][0][1]][0][0].remove(intersectionSet[r])\n",
    "\n"
   ]
  },
  {
   "cell_type": "code",
   "execution_count": null,
   "metadata": {
    "collapsed": false
   },
   "outputs": [],
   "source": [
    "# sharedSkin = []\n",
    "# for i in range(0,noMeaningfulTweets):\n",
    "#     intersectionSet = set(SkinTag).intersection(tempSplit[i][0][0])\n",
    "#     common = len(intersectionSet)\n",
    "#     if common > 0:\n",
    "#         tempT = [[0 for x in range(2)]]\n",
    "#         tempT[0][0] = intersectionSet\n",
    "#         tempT[0][1] = i\n",
    "#         sharedSkin.append(tempT)\n",
    "\n",
    "# length = len(sharedSkin)\n",
    "# for i in range(0,length):\n",
    "#     for j in range(0, stopTermLength):\n",
    "#         intersectionSet = set(stopTerm.values[j][0]).intersection(tempSplit[sharedSkin[i][0][1]][0][0])\n",
    "#         intersectionSet = list(intersectionSet)\n",
    "#         if len(intersectionSet) > 0:\n",
    "#             for r in range(0,len(intersectionSet)):\n",
    "#                 tempSplit[sharedSkin[i][0][1]][0][0].remove(intersectionSet[r])\n",
    "\n",
    "\n"
   ]
  },
  {
   "cell_type": "code",
   "execution_count": null,
   "metadata": {
    "collapsed": false
   },
   "outputs": [],
   "source": [
    "# sharedSenseOrgansSkin = []\n",
    "# for i in range(0,noMeaningfulTweets):\n",
    "#     intersectionSet = set(SenseOrgansTag).intersection(tempSplit[i][0][0])\n",
    "#     common = len(intersectionSet)\n",
    "#     if common > 0:\n",
    "#         tempT = [[0 for x in range(2)]]\n",
    "#         tempT[0][0] = intersectionSet\n",
    "#         tempT[0][1] = i\n",
    "#         sharedSenseOrgansSkin.append(tempT)\n",
    "\n",
    "# length = len(sharedSenseOrgansSkin)\n",
    "# for i in range(0,length):\n",
    "#     for j in range(0, stopTermLength):\n",
    "#         intersectionSet = set(stopTerm.values[j][0]).intersection(tempSplit[sharedSenseOrgansSkin[i][0][1]][0][0])\n",
    "#         intersectionSet = list(intersectionSet)\n",
    "#         if len(intersectionSet) > 0:\n",
    "#             for r in range(0,len(intersectionSet)):\n",
    "#                 tempSplit[sharedSenseOrgansSkin[i][0][1]][0][0].remove(intersectionSet[r])\n",
    "\n",
    "\n",
    "        "
   ]
  },
  {
   "cell_type": "code",
   "execution_count": null,
   "metadata": {
    "collapsed": false
   },
   "outputs": [],
   "source": [
    "# sharedRespiratory = []\n",
    "# for i in range(0,noMeaningfulTweets):\n",
    "#     intersectionSet = set(RespiratoryTag).intersection(tempSplit[i][0][0])\n",
    "#     common = len(intersectionSet)\n",
    "#     if common > 0:\n",
    "#         tempT = [[0 for x in range(2)]]\n",
    "#         tempT[0][0] = intersectionSet\n",
    "#         tempT[0][1] = i\n",
    "#         sharedRespiratory.append(tempT)\n",
    "\n",
    "# length = len(sharedRespiratory)\n",
    "# for i in range(0,length):\n",
    "#     for j in range(0, stopTermLength):\n",
    "#         intersectionSet = set(stopTerm.values[j][0]).intersection(tempSplit[sharedRespiratory[i][0][1]][0][0])\n",
    "#         intersectionSet = list(intersectionSet)\n",
    "#         if len(intersectionSet) > 0:\n",
    "#             for r in range(0,len(intersectionSet)):\n",
    "#                 tempSplit[sharedRespiratory[i][0][1]][0][0].remove(intersectionSet[r])\n",
    "\n",
    "\n",
    "        "
   ]
  },
  {
   "cell_type": "code",
   "execution_count": null,
   "metadata": {
    "collapsed": false
   },
   "outputs": [],
   "source": [
    "# sharedReproductive = []\n",
    "# for i in range(0,noMeaningfulTweets):\n",
    "#     intersectionSet = set(ReproductiveTag).intersection(tempSplit[i][0][0])\n",
    "#     common = len(intersectionSet)\n",
    "#     if common > 0:\n",
    "#         tempT = [[0 for x in range(2)]]\n",
    "#         tempT[0][0] = intersectionSet\n",
    "#         tempT[0][1] = i\n",
    "#         sharedReproductive.append(tempT)\n",
    "\n",
    "# length = len(sharedReproductive)\n",
    "# for i in range(0,length):\n",
    "#     for j in range(0, stopTermLength):\n",
    "#         intersectionSet = set(stopTerm.values[j][0]).intersection(tempSplit[sharedReproductive[i][0][1]][0][0])\n",
    "#         intersectionSet = list(intersectionSet)\n",
    "#         if len(intersectionSet) > 0:\n",
    "#             for r in range(0,len(intersectionSet)):\n",
    "#                 tempSplit[sharedReproductive[i][0][1]][0][0].remove(intersectionSet[r])\n",
    "\n",
    "\n",
    "\n",
    "        \n",
    "        "
   ]
  },
  {
   "cell_type": "code",
   "execution_count": null,
   "metadata": {
    "collapsed": false
   },
   "outputs": [],
   "source": [
    "# sharedPsych = []\n",
    "# for i in range(0,noMeaningfulTweets):\n",
    "#     intersectionSet = set(PsychTag).intersection(tempSplit[i][0][0])\n",
    "#     common = len(intersectionSet)\n",
    "#     if common > 0:\n",
    "#         tempT = [[0 for x in range(2)]]\n",
    "#         tempT[0][0] = intersectionSet\n",
    "#         tempT[0][1] = i\n",
    "#         sharedPsych.append(tempT)\n",
    "\n",
    "# length = len(sharedPsych)\n",
    "# for i in range(0,length):\n",
    "#     for j in range(0, stopTermLength):\n",
    "#         intersectionSet = set(stopTerm.values[j][0]).intersection(tempSplit[sharedPsych[i][0][1]][0][0])\n",
    "#         intersectionSet = list(intersectionSet)\n",
    "#         if len(intersectionSet) > 0:\n",
    "#             for r in range(0,len(intersectionSet)):\n",
    "#                 tempSplit[sharedPsych[i][0][1]][0][0].remove(intersectionSet[r])\n",
    "\n",
    "\n",
    "        "
   ]
  },
  {
   "cell_type": "code",
   "execution_count": null,
   "metadata": {
    "collapsed": false
   },
   "outputs": [],
   "source": [
    "# sharedInfectiousParasitic = []\n",
    "# for i in range(0,noMeaningfulTweets):\n",
    "#     intersectionSet = set(InfectiousParasiticTag).intersection(tempSplit[i][0][0])\n",
    "#     common = len(intersectionSet)\n",
    "#     if common > 0:\n",
    "#         tempT = [[0 for x in range(2)]]\n",
    "#         tempT[0][0] = intersectionSet\n",
    "#         tempT[0][1] = i\n",
    "#         sharedInfectiousParasitic.append(tempT)\n",
    "# length = len(sharedInfectiousParasitic)\n",
    "# for i in range(0,length):\n",
    "#     for j in range(0, stopTermLength):\n",
    "#         intersectionSet = set(stopTerm.values[j][0]).intersection(tempSplit[sharedInfectiousParasitic[i][0][1]][0][0])\n",
    "#         intersectionSet = list(intersectionSet)\n",
    "#         if len(intersectionSet) > 0:\n",
    "#             for r in range(0,len(intersectionSet)):\n",
    "#                 tempSplit[sharedInfectiousParasitic[i][0][1]][0][0].remove(intersectionSet[r])\n",
    "\n",
    "\n",
    "  "
   ]
  },
  {
   "cell_type": "code",
   "execution_count": null,
   "metadata": {
    "collapsed": false
   },
   "outputs": [],
   "source": [
    "# sharedNeurological = []\n",
    "# for i in range(0,noMeaningfulTweets):\n",
    "#     intersectionSet = set(NeurologicalTag).intersection(tempSplit[i][0][0])\n",
    "#     common = len(intersectionSet)\n",
    "#     if common > 0:\n",
    "#         tempT = [[0 for x in range(2)]]\n",
    "#         tempT[0][0] = intersectionSet\n",
    "#         tempT[0][1] = i\n",
    "#         sharedNeurological.append(tempT)\n",
    "# length = len(sharedNeurological)\n",
    "# for i in range(0,length):\n",
    "#     for j in range(0, stopTermLength):\n",
    "#         intersectionSet = set(stopTerm.values[j][0]).intersection(tempSplit[sharedNeurological[i][0][1]][0][0])\n",
    "#         intersectionSet = list(intersectionSet)\n",
    "#         if len(intersectionSet) > 0:\n",
    "#             for r in range(0,len(intersectionSet)):\n",
    "#                 tempSplit[sharedNeurological[i][0][1]][0][0].remove(intersectionSet[r])\n",
    "\n"
   ]
  },
  {
   "cell_type": "code",
   "execution_count": null,
   "metadata": {
    "collapsed": false
   },
   "outputs": [],
   "source": [
    "# sharedMultiple = []\n",
    "# for i in range(0,noMeaningfulTweets):\n",
    "#     intersectionSet = set(MultipleTag).intersection(tempSplit[i][0][0])\n",
    "#     common = len(intersectionSet)\n",
    "#     if common > 0:\n",
    "#         tempT = [[0 for x in range(2)]]\n",
    "#         tempT[0][0] = intersectionSet\n",
    "#         tempT[0][1] = i\n",
    "#         sharedMultiple.append(tempT)\n",
    "# length = len(sharedMultiple)\n",
    "# for i in range(0,length):\n",
    "#     for j in range(0, stopTermLength):\n",
    "#         intersectionSet = set(stopTerm.values[j][0]).intersection(tempSplit[sharedMultiple[i][0][1]][0][0])\n",
    "#         intersectionSet = list(intersectionSet)\n",
    "#         if len(intersectionSet) > 0:\n",
    "#             for r in range(0,len(intersectionSet)):\n",
    "#                 tempSplit[sharedMultiple[i][0][1]][0][0].remove(intersectionSet[r])\n",
    "\n",
    "\n"
   ]
  },
  {
   "cell_type": "code",
   "execution_count": null,
   "metadata": {
    "collapsed": false
   },
   "outputs": [],
   "source": [
    "# sharedMusculoskeletal = []\n",
    "# for i in range(0,noMeaningfulTweets):\n",
    "#     intersectionSet = set(MusculoskeletalTag).intersection(tempSplit[i][0][0])\n",
    "#     common = len(intersectionSet)\n",
    "#     if common > 0:\n",
    "#         tempT = [[0 for x in range(2)]]\n",
    "#         tempT[0][0] = intersectionSet\n",
    "#         tempT[0][1] = i\n",
    "#         sharedMusculoskeletal.append(tempT)\n",
    "# length = len(sharedMusculoskeletal)\n",
    "# for i in range(0,length):\n",
    "#     for j in range(0, stopTermLength):\n",
    "#         intersectionSet = set(stopTerm.values[j][0]).intersection(tempSplit[sharedMusculoskeletal[i][0][1]][0][0])\n",
    "#         intersectionSet = list(intersectionSet)\n",
    "#         if len(intersectionSet) > 0:\n",
    "#             for r in range(0,len(intersectionSet)):\n",
    "#                 tempSplit[sharedMusculoskeletal[i][0][1]][0][0].remove(intersectionSet[r])\n",
    "\n",
    "\n",
    "\n"
   ]
  },
  {
   "cell_type": "code",
   "execution_count": null,
   "metadata": {
    "collapsed": false
   },
   "outputs": [],
   "source": [
    "# sharedMetabolic = []\n",
    "# for i in range(0,noMeaningfulTweets):\n",
    "#     intersectionSet = set(MetabolicTag).intersection(tempSplit[i][0][0])\n",
    "#     common = len(intersectionSet)\n",
    "#     if common > 0:\n",
    "#         tempT = [[0 for x in range(2)]]\n",
    "#         tempT[0][0] = intersectionSet\n",
    "#         tempT[0][1] = i\n",
    "#         sharedMetabolic.append(tempT)\n",
    "# length = len(sharedMetabolic)\n",
    "# for i in range(0,length):\n",
    "#     for j in range(0, stopTermLength):\n",
    "#         intersectionSet = set(stopTerm.values[j][0]).intersection(tempSplit[sharedMetabolic[i][0][1]][0][0])\n",
    "#         intersectionSet = list(intersectionSet)\n",
    "#         if len(intersectionSet) > 0:\n",
    "#             for r in range(0,len(intersectionSet)):\n",
    "#                 tempSplit[sharedMetabolic[i][0][1]][0][0].remove(intersectionSet[r])\n",
    "\n",
    "\n"
   ]
  },
  {
   "cell_type": "code",
   "execution_count": null,
   "metadata": {
    "collapsed": false
   },
   "outputs": [],
   "source": [
    "# sharedLymphatic = []\n",
    "# for i in range(0,noMeaningfulTweets):\n",
    "#     intersectionSet = set(LymphaticTag).intersection(tempSplit[i][0][0])\n",
    "#     common = len(intersectionSet)\n",
    "#     if common > 0:\n",
    "#         tempT = [[0 for x in range(2)]]\n",
    "#         tempT[0][0] = intersectionSet\n",
    "#         tempT[0][1] = i\n",
    "#         sharedLymphatic.append(tempT)\n",
    "# length = len(sharedLymphatic)\n",
    "# for i in range(0,length):\n",
    "#     for j in range(0, stopTermLength):\n",
    "#         intersectionSet = set(stopTerm.values[j][0]).intersection(tempSplit[sharedLymphatic[i][0][1]][0][0])\n",
    "#         intersectionSet = list(intersectionSet)\n",
    "#         if len(intersectionSet) > 0:\n",
    "#             for r in range(0,len(intersectionSet)):\n",
    "#                 tempSplit[sharedLymphatic[i][0][1]][0][0].remove(intersectionSet[r])\n",
    "\n",
    "\n"
   ]
  },
  {
   "cell_type": "code",
   "execution_count": null,
   "metadata": {
    "collapsed": false
   },
   "outputs": [],
   "source": [
    "# sharedImmune = []\n",
    "# for i in range(0,noMeaningfulTweets):\n",
    "#     intersectionSet = set(ImmuneTag).intersection(tempSplit[i][0][0])\n",
    "#     common = len(intersectionSet)\n",
    "#     if common > 0:\n",
    "#         tempT = [[0 for x in range(2)]]\n",
    "#         tempT[0][0] = intersectionSet\n",
    "#         tempT[0][1] = i\n",
    "#         sharedImmune.append(tempT)\n",
    "# length = len(sharedImmune)\n",
    "# for i in range(0,length):\n",
    "#     for j in range(0, stopTermLength):\n",
    "#         intersectionSet = set(stopTerm.values[j][0]).intersection(tempSplit[sharedImmune[i][0][1]][0][0])\n",
    "#         intersectionSet = list(intersectionSet)\n",
    "#         if len(intersectionSet) > 0:\n",
    "#             for r in range(0,len(intersectionSet)):\n",
    "#                 tempSplit[sharedImmune[i][0][1]][0][0].remove(intersectionSet[r])\n",
    "\n"
   ]
  },
  {
   "cell_type": "code",
   "execution_count": null,
   "metadata": {
    "collapsed": false
   },
   "outputs": [],
   "source": [
    "# sharedRareDiseases = []\n",
    "# for i in range(0,noMeaningfulTweets):\n",
    "#     intersectionSet = set(RareDiseasesTag).intersection(tempSplit[i][0][0])\n",
    "#     common = len(intersectionSet)\n",
    "#     if common > 0:\n",
    "#         tempT = [[0 for x in range(2)]]\n",
    "#         tempT[0][0] = intersectionSet\n",
    "#         tempT[0][1] = i\n",
    "#         sharedRareDiseases.append(tempT)\n",
    "# length = len(sharedRareDiseases)\n",
    "# for i in range(0,length):\n",
    "#     for j in range(0, stopTermLength):\n",
    "#         intersectionSet = set(stopTerm.values[j][0]).intersection(tempSplit[sharedRareDiseases[i][0][1]][0][0])\n",
    "#         intersectionSet = list(intersectionSet)\n",
    "#         if len(intersectionSet) > 0:\n",
    "#             for r in range(0,len(intersectionSet)):\n",
    "#                 tempSplit[sharedRareDiseases[i][0][1]][0][0].remove(intersectionSet[r])\n",
    "\n",
    "\n"
   ]
  },
  {
   "cell_type": "code",
   "execution_count": null,
   "metadata": {
    "collapsed": false
   },
   "outputs": [],
   "source": [
    "# sharedExcretory = []\n",
    "# for i in range(0,noMeaningfulTweets):\n",
    "#     intersectionSet = set(ExcretoryTag).intersection(tempSplit[i][0][0])\n",
    "#     common = len(intersectionSet)\n",
    "#     if common > 0:\n",
    "#         tempT = [[0 for x in range(2)]]\n",
    "#         tempT[0][0] = intersectionSet\n",
    "#         tempT[0][1] = i\n",
    "#         sharedExcretory.append(tempT)\n",
    "# length = len(sharedExcretory)\n",
    "# for i in range(0,length):\n",
    "#     for j in range(0, stopTermLength):\n",
    "#         intersectionSet = set(stopTerm.values[j][0]).intersection(tempSplit[sharedExcretory[i][0][1]][0][0])\n",
    "#         intersectionSet = list(intersectionSet)\n",
    "#         if len(intersectionSet) > 0:\n",
    "#             for r in range(0,len(intersectionSet)):\n",
    "#                 tempSplit[sharedExcretory[i][0][1]][0][0].remove(intersectionSet[r])\n",
    "\n",
    "\n"
   ]
  },
  {
   "cell_type": "code",
   "execution_count": null,
   "metadata": {
    "collapsed": false
   },
   "outputs": [],
   "source": [
    "# sharedDigestive = []\n",
    "# for i in range(0,noMeaningfulTweets):\n",
    "#     intersectionSet = set(DigestiveTag).intersection(tempSplit[i][0][0])\n",
    "#     common = len(intersectionSet)\n",
    "#     if common > 0:\n",
    "#         tempT = [[0 for x in range(2)]]\n",
    "#         tempT[0][0] = intersectionSet\n",
    "#         tempT[0][1] = i\n",
    "#         sharedDigestive.append(tempT)\n",
    "# length = len(sharedDigestive)\n",
    "# for i in range(0,length):\n",
    "#     for j in range(0, stopTermLength):\n",
    "#         intersectionSet = set(stopTerm.values[j][0]).intersection(tempSplit[sharedDigestive[i][0][1]][0][0])\n",
    "#         intersectionSet = list(intersectionSet)\n",
    "#         if len(intersectionSet) > 0:\n",
    "#             for r in range(0,len(intersectionSet)):\n",
    "#                 tempSplit[sharedDigestive[i][0][1]][0][0].remove(intersectionSet[r])\n",
    "\n",
    "\n",
    "\n"
   ]
  },
  {
   "cell_type": "code",
   "execution_count": null,
   "metadata": {
    "collapsed": false
   },
   "outputs": [],
   "source": [
    "# sharedCongenitalAnomolies = []\n",
    "# for i in range(0,noMeaningfulTweets):\n",
    "#     intersectionSet = set(CongenitalAnomoliesTag).intersection(tempSplit[i][0][0])\n",
    "#     common = len(intersectionSet)\n",
    "#     if common > 0:\n",
    "#         tempT = [[0 for x in range(2)]]\n",
    "#         tempT[0][0] = intersectionSet\n",
    "#         tempT[0][1] = i\n",
    "#         sharedCongenitalAnomolies.append(tempT)\n",
    "# length = len(sharedCongenitalAnomolies)\n",
    "# for i in range(0,length):\n",
    "#     for j in range(0, stopTermLength):\n",
    "#         intersectionSet = set(stopTerm.values[j][0]).intersection(tempSplit[sharedCongenitalAnomolies[i][0][1]][0][0])\n",
    "#         intersectionSet = list(intersectionSet)\n",
    "#         if len(intersectionSet) > 0:\n",
    "#             for r in range(0,len(intersectionSet)):\n",
    "#                 tempSplit[sharedCongenitalAnomolies[i][0][1]][0][0].remove(intersectionSet[r])\n",
    "\n"
   ]
  },
  {
   "cell_type": "code",
   "execution_count": null,
   "metadata": {
    "collapsed": false
   },
   "outputs": [],
   "source": [
    "# sharedCardiovascular = []\n",
    "# for i in range(0,noMeaningfulTweets):\n",
    "#     intersectionSet = set(CardiovascularTag).intersection(tempSplit[i][0][0])\n",
    "#     common = len(intersectionSet)\n",
    "#     if common > 0:\n",
    "#         tempT = [[0 for x in range(2)]]\n",
    "#         tempT[0][0] = intersectionSet\n",
    "#         tempT[0][1] = i\n",
    "#         sharedCardiovascular.append(tempT)\n",
    "# length = len(sharedCardiovascular)\n",
    "# for i in range(0,length):\n",
    "#     for j in range(0, stopTermLength):\n",
    "#         intersectionSet = set(stopTerm.values[j][0]).intersection(tempSplit[sharedCardiovascular[i][0][1]][0][0])\n",
    "#         intersectionSet = list(intersectionSet)\n",
    "#         if len(intersectionSet) > 0:\n",
    "#             for r in range(0,len(intersectionSet)):\n",
    "#                 tempSplit[sharedCardiovascular[i][0][1]][0][0].remove(intersectionSet[r])\n",
    "\n"
   ]
  },
  {
   "cell_type": "code",
   "execution_count": null,
   "metadata": {
    "collapsed": false
   },
   "outputs": [],
   "source": [
    "# sharedBlood = []\n",
    "# for i in range(0,noMeaningfulTweets):\n",
    "#     intersectionSet = set(BloodTag).intersection(tempSplit[i][0][0])\n",
    "#     common = len(intersectionSet)\n",
    "#     if common > 0:\n",
    "#         tempT = [[0 for x in range(2)]]\n",
    "#         tempT[0][0] = intersectionSet\n",
    "#         tempT[0][1] = i\n",
    "#         sharedBlood.append(tempT)\n",
    "# length = len(sharedBlood)\n",
    "# for i in range(0,length):\n",
    "#     for j in range(0, stopTermLength):\n",
    "#         intersectionSet = set(stopTerm.values[j][0]).intersection(tempSplit[sharedBlood[i][0][1]][0][0])\n",
    "#         intersectionSet = list(intersectionSet)\n",
    "#         if len(intersectionSet) > 0:\n",
    "#             for r in range(0,len(intersectionSet)):\n",
    "#                 tempSplit[sharedBlood[i][0][1]][0][0].remove(intersectionSet[r])\n",
    "\n"
   ]
  },
  {
   "cell_type": "markdown",
   "metadata": {},
   "source": [
    "Comparing topics with tweets"
   ]
  },
  {
   "cell_type": "code",
   "execution_count": null,
   "metadata": {
    "collapsed": false
   },
   "outputs": [],
   "source": [
    "import csv\n",
    "\n",
    "with open(outputFileName, 'w') as csvfile: \n",
    "    fieldnames = ['userId','keyword', 'content', 'timestamp','location','diseaseName']\n",
    "    writer = csv.DictWriter(csvfile, fieldnames=fieldnames)\n",
    "    writer.writeheader()\n",
    "    length = len(sharedEndocrine)\n",
    "    for i in range(0,length):\n",
    "        writer.writerow({'content': ','.join(tempSplit[sharedEndocrine[i][0][1]][0][0]), \n",
    "                         'keyword': sharedEndocrine[i][0][0], \n",
    "                         'timestamp': tempSplit[sharedEndocrine[i][0][1]][0][1], \n",
    "                         'location': tempSplit[sharedEndocrine[i][0][1]][0][2],\n",
    "                          'userId': tempSplit[sharedEndocrine[i][0][1]][0][3],\n",
    "                         'diseaseName': \"Endocrine\"})\n",
    "\n",
    "#     length = len(sharedBlood)\n",
    "#     for i in range(0,length):\n",
    "#         writer.writerow({'content': ','.join(tempSplit[sharedBlood[i][0][1]][0][0]), \n",
    "#                          'keyword': sharedBlood[i][0][0], \n",
    "#                          'timestamp': tempSplit[sharedBlood[i][0][1]][0][1], \n",
    "#                          'location': tempSplit[sharedBlood[i][0][1]][0][2],\n",
    "#                         'userId': tempSplit[sharedBlood[i][0][1]][0][3],\n",
    "#                          'diseaseName': \"blood\"})\n",
    "\n",
    "#     length = len(sharedCardiovascular)\n",
    "#     for i in range(0,length):\n",
    "#         writer.writerow({'content': ','.join(tempSplit[sharedCardiovascular[i][0][1]][0][0]), \n",
    "#                          'keyword': sharedCardiovascular[i][0][0], \n",
    "#                          'timestamp': tempSplit[sharedCardiovascular[i][0][1]][0][1], \n",
    "#                          'location': tempSplit[sharedCardiovascular[i][0][1]][0][2],\n",
    "#                                                 'userId': tempSplit[sharedCardiovascular[i][0][1]][0][3],\n",
    "#                          'diseaseName': \"cardiovascular\"})\n",
    "        \n",
    "#     length = len(sharedCongenitalAnomolies)\n",
    "#     for i in range(0,length):\n",
    "#         writer.writerow({'content': ','.join(tempSplit[sharedCongenitalAnomolies[i][0][1]][0][0]), \n",
    "#                          'keyword': sharedCongenitalAnomolies[i][0][0], \n",
    "#                          'timestamp': tempSplit[sharedCongenitalAnomolies[i][0][1]][0][1], \n",
    "#                          'location': tempSplit[sharedCongenitalAnomolies[i][0][1]][0][2],\n",
    "#                              'userId': tempSplit[sharedCongenitalAnomolies[i][0][1]][0][3],\n",
    "#                         'diseaseName': \"CongenitalAnomolies\"})\n",
    "        \n",
    "#     length = len(sharedDigestive)\n",
    "#     for i in range(0,length):\n",
    "#         writer.writerow({'content': ','.join(tempSplit[sharedDigestive[i][0][1]][0][0]), \n",
    "#                          'keyword': sharedDigestive[i][0][0], \n",
    "#                          'timestamp': tempSplit[sharedDigestive[i][0][1]][0][1], \n",
    "#                          'location': tempSplit[sharedDigestive[i][0][1]][0][2],\n",
    "#                                                       'userId': tempSplit[sharedDigestive[i][0][1]][0][3],\n",
    "#                         'diseaseName' : \"Digestive\"})\n",
    "\n",
    "#     length = len(sharedExcretory)\n",
    "#     for i in range(0,length):\n",
    "#         writer.writerow({'content': ','.join(tempSplit[sharedExcretory[i][0][1]][0][0]), \n",
    "#                          'keyword': sharedExcretory[i][0][0], \n",
    "#                          'timestamp': tempSplit[sharedExcretory[i][0][1]][0][1], \n",
    "#                          'location': tempSplit[sharedExcretory[i][0][1]][0][2],\n",
    "#                         'userId': tempSplit[sharedExcretory[i][0][1]][0][3],\n",
    "#                         'diseaseName' : \"Excretory\"})\n",
    "    \n",
    "#     length = len(sharedImmune)\n",
    "#     for i in range(0,length):\n",
    "#         writer.writerow({'content': ','.join(tempSplit[sharedImmune[i][0][1]][0][0]), \n",
    "#                          'keyword': sharedImmune[i][0][0], \n",
    "#                          'timestamp': tempSplit[sharedImmune[i][0][1]][0][1], \n",
    "#                          'location': tempSplit[sharedImmune[i][0][1]][0][2],\n",
    "#                          'userId': tempSplit[sharedImmune[i][0][1]][0][3],\n",
    "#                           'diseaseName' : \"Immune\"})\n",
    "        \n",
    "#     length = len(sharedInfectiousParasitic)\n",
    "#     for i in range(0,length):\n",
    "#         writer.writerow({'content': ','.join(tempSplit[sharedInfectiousParasitic[i][0][1]][0][0]), \n",
    "#                          'keyword': sharedInfectiousParasitic[i][0][0], \n",
    "#                          'timestamp': tempSplit[sharedInfectiousParasitic[i][0][1]][0][1], \n",
    "#                          'location': tempSplit[sharedInfectiousParasitic[i][0][1]][0][2],\n",
    "#                          'userId': tempSplit[sharedInfectiousParasitic[i][0][1]][0][3],\n",
    "#                          'diseaseName' : \"InfectiousParasitic\"})\n",
    "        \n",
    "#     length = len(sharedInjury)\n",
    "#     for i in range(0,length):\n",
    "#         writer.writerow({'content': ','.join(tempSplit[sharedInjury[i][0][1]][0][0]), \n",
    "#                          'keyword': sharedInjury[i][0][0], \n",
    "#                          'timestamp': tempSplit[sharedInjury[i][0][1]][0][1], \n",
    "#                          'location': tempSplit[sharedInjury[i][0][1]][0][2],\n",
    "#                          'userId': tempSplit[sharedInjury[i][0][1]][0][3],  \n",
    "#                          'diseaseName' : \"Injury\"})\n",
    "        \n",
    "#     length = len(sharedLymphatic)\n",
    "#     for i in range(0,length):\n",
    "#         writer.writerow({'content': ','.join(tempSplit[sharedLymphatic[i][0][1]][0][0]), \n",
    "#                          'keyword': sharedLymphatic[i][0][0], \n",
    "#                          'timestamp': tempSplit[sharedLymphatic[i][0][1]][0][1], \n",
    "#                          'location': tempSplit[sharedLymphatic[i][0][1]][0][2],\n",
    "#                                                 'userId': tempSplit[sharedLymphatic[i][0][1]][0][3],    \n",
    "#                         'diseaseName' : \"Lymphatic\"})\n",
    "        \n",
    "#     length = len(sharedMetabolic)\n",
    "#     for i in range(0,length):\n",
    "#         writer.writerow({'content': ','.join(tempSplit[sharedMetabolic[i][0][1]][0][0]), \n",
    "#                          'keyword': sharedMetabolic[i][0][0], \n",
    "#                          'timestamp': tempSplit[sharedMetabolic[i][0][1]][0][1], \n",
    "#                          'location': tempSplit[sharedMetabolic[i][0][1]][0][2],\n",
    "#                        'userId': tempSplit[sharedMetabolic[i][0][1]][0][3],    \n",
    "#                          'diseaseName' : \"Metabolic\"})\n",
    "        \n",
    "#     length = len(sharedMultiple)\n",
    "#     for i in range(0,length):\n",
    "#         writer.writerow({'content': ','.join(tempSplit[sharedMultiple[i][0][1]][0][0]), \n",
    "#                          'keyword': sharedMultiple[i][0][0], \n",
    "#                          'timestamp': tempSplit[sharedMultiple[i][0][1]][0][1], \n",
    "#                          'location': tempSplit[sharedMultiple[i][0][1]][0][2],\n",
    "#                          'userId': tempSplit[sharedMultiple[i][0][1]][0][3],     \n",
    "#                          'diseaseName' : \"Multiple\"})\n",
    "        \n",
    "#     length = len(sharedMusculoskeletal)\n",
    "#     for i in range(0,length):\n",
    "#         writer.writerow({'content': ','.join(tempSplit[sharedMusculoskeletal[i][0][1]][0][0]), \n",
    "#                          'keyword': sharedMusculoskeletal[i][0][0], \n",
    "#                          'timestamp': tempSplit[sharedMusculoskeletal[i][0][1]][0][1], \n",
    "#                          'location': tempSplit[sharedMusculoskeletal[i][0][1]][0][2],\n",
    "#                          'userId': tempSplit[sharedMusculoskeletal[i][0][1]][0][3],     \n",
    "#                          'diseaseName' : \"Musculoskeletal\"})\n",
    "        \n",
    "#     length = len(sharedNeurological)\n",
    "#     for i in range(0,length):\n",
    "#         writer.writerow({'content': ','.join(tempSplit[sharedNeurological[i][0][1]][0][0]), \n",
    "#                          'keyword': sharedNeurological[i][0][0], \n",
    "#                          'timestamp': tempSplit[sharedNeurological[i][0][1]][0][1], \n",
    "#                          'location': tempSplit[sharedNeurological[i][0][1]][0][2],\n",
    "#                          'userId': tempSplit[sharedNeurological[i][0][1]][0][3],     \n",
    "#                          'diseaseName' : \"Neurological\"})\n",
    "        \n",
    "        \n",
    "#     length = len(sharedPsych)\n",
    "#     for i in range(0,length):\n",
    "#         writer.writerow({'content': ','.join(tempSplit[sharedPsych[i][0][1]][0][0]), \n",
    "#                          'keyword': sharedPsych[i][0][0], \n",
    "#                          'timestamp': tempSplit[sharedPsych[i][0][1]][0][1], \n",
    "#                          'location': tempSplit[sharedPsych[i][0][1]][0][2],\n",
    "#                                 'userId': tempSplit[sharedPsych[i][0][1]][0][3],     \n",
    "#                          'diseaseName' : \"Psych\"})\n",
    "        \n",
    "#     length = len(sharedRareDiseases)\n",
    "#     for i in range(0,length):\n",
    "#         writer.writerow({'content': ','.join(tempSplit[sharedRareDiseases[i][0][1]][0][0]), \n",
    "#                          'keyword': sharedRareDiseases[i][0][0], \n",
    "#                          'timestamp': tempSplit[sharedRareDiseases[i][0][1]][0][1], \n",
    "#                          'location': tempSplit[sharedRareDiseases[i][0][1]][0][2],\n",
    "#                             'userId': tempSplit[sharedRareDiseases[i][0][1]][0][3],      \n",
    "#                          'diseaseName' : \"RareDiseases\"})\n",
    "        \n",
    "#     length = len(sharedReproductive)\n",
    "#     for i in range(0,length):\n",
    "#         writer.writerow({'content': ','.join(tempSplit[sharedReproductive[i][0][1]][0][0]), \n",
    "#                          'keyword': sharedReproductive[i][0][0], \n",
    "#                          'timestamp': tempSplit[sharedReproductive[i][0][1]][0][1], \n",
    "#                          'location': tempSplit[sharedReproductive[i][0][1]][0][2],\n",
    "#                          'userId': tempSplit[sharedReproductive[i][0][1]][0][3],      \n",
    "#                          'diseaseName' : \"Reproductive\"})\n",
    "        \n",
    "        \n",
    "#     length = len(sharedRespiratory)\n",
    "#     for i in range(0,length):\n",
    "#         writer.writerow({'content': ','.join(tempSplit[sharedRespiratory[i][0][1]][0][0]), \n",
    "#                          'keyword': sharedRespiratory[i][0][0], \n",
    "#                          'timestamp': tempSplit[sharedRespiratory[i][0][1]][0][1], \n",
    "#                          'location': tempSplit[sharedRespiratory[i][0][1]][0][2],\n",
    "#                            'userId': tempSplit[sharedRespiratory[i][0][1]][0][3],       \n",
    "#                          'diseaseName' : \"Respiratory\"})\n",
    "        \n",
    "#     length = len(sharedSenseOrgansSkin)\n",
    "#     for i in range(0,length):\n",
    "#         writer.writerow({'content': ','.join(tempSplit[sharedSenseOrgansSkin[i][0][1]][0][0]), \n",
    "#                          'keyword': sharedSenseOrgansSkin[i][0][0], \n",
    "#                          'timestamp': tempSplit[sharedSenseOrgansSkin[i][0][1]][0][1], \n",
    "#                          'location': tempSplit[sharedSenseOrgansSkin[i][0][1]][0][2],\n",
    "#                            'userId': tempSplit[sharedSenseOrgansSkin[i][0][1]][0][3],       \n",
    "#                          'diseaseName' : \"SenseOrgansSkin\"})\n",
    "        \n",
    "#     length = len(sharedSkin)\n",
    "#     for i in range(0,length):\n",
    "#         writer.writerow({'content': ','.join(tempSplit[sharedSkin[i][0][1]][0][0]), \n",
    "#                          'keyword': sharedSkin[i][0][0], \n",
    "#                          'timestamp': tempSplit[sharedSkin[i][0][1]][0][1], \n",
    "#                          'location': tempSplit[sharedSkin[i][0][1]][0][2],\n",
    "#                               'userId': tempSplit[sharedSkin[i][0][1]][0][3],       \n",
    "#                          'diseaseName' : \"Skin\"})"
   ]
  },
  {
   "cell_type": "code",
   "execution_count": null,
   "metadata": {
    "collapsed": false
   },
   "outputs": [],
   "source": [
    "\n"
   ]
  },
  {
   "cell_type": "code",
   "execution_count": null,
   "metadata": {
    "collapsed": false
   },
   "outputs": [],
   "source": []
  },
  {
   "cell_type": "code",
   "execution_count": null,
   "metadata": {
    "collapsed": false
   },
   "outputs": [],
   "source": []
  },
  {
   "cell_type": "code",
   "execution_count": null,
   "metadata": {
    "collapsed": false
   },
   "outputs": [],
   "source": []
  },
  {
   "cell_type": "code",
   "execution_count": null,
   "metadata": {
    "collapsed": false
   },
   "outputs": [],
   "source": []
  },
  {
   "cell_type": "code",
   "execution_count": null,
   "metadata": {
    "collapsed": true
   },
   "outputs": [],
   "source": []
  }
 ],
 "metadata": {
  "kernelspec": {
   "display_name": "Python 3",
   "language": "python",
   "name": "python3"
  },
  "language_info": {
   "codemirror_mode": {
    "name": "ipython",
    "version": 3
   },
   "file_extension": ".py",
   "mimetype": "text/x-python",
   "name": "python",
   "nbconvert_exporter": "python",
   "pygments_lexer": "ipython3",
   "version": "3.5.1"
  }
 },
 "nbformat": 4,
 "nbformat_minor": 0
}
