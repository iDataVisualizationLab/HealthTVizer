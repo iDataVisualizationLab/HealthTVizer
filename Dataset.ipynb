{
 "cells": [
  {
   "cell_type": "code",
   "execution_count": 2,
   "metadata": {
    "collapsed": false
   },
   "outputs": [],
   "source": [
    "import pandas as pd\n"
   ]
  },
  {
   "cell_type": "code",
   "execution_count": 2,
   "metadata": {
    "collapsed": false
   },
   "outputs": [],
   "source": [
    "dData0 = pd.read_csv(\"./Data/diseaseData06.csv\",encoding = \"ISO-8859-1\")\n",
    "dData01 = pd.read_csv(\"./Data/diseaseData07.csv\",encoding = \"ISO-8859-1\")\n",
    "dData1 = pd.read_csv(\"./Data/diseaseData08.csv\",encoding = \"ISO-8859-1\")\n",
    "dData2 = pd.read_csv(\"./Data/diseaseData09.csv\",encoding = \"ISO-8859-1\")\n",
    "dData3 = pd.read_csv(\"./Data/diseaseData10.csv\",encoding = \"ISO-8859-1\")\n",
    "dData4 = pd.read_csv(\"./Data/diseaseData11.csv\",encoding = \"ISO-8859-1\")\n",
    "dData5 = pd.read_csv(\"./Data/diseaseData12.csv\",encoding = \"ISO-8859-1\")\n",
    "dData6 = pd.read_csv(\"./Data/diseaseData13.csv\",encoding = \"ISO-8859-1\")\n",
    "dData7 = pd.read_csv(\"./Data/diseaseData14.csv\",encoding = \"ISO-8859-1\")\n",
    "dData8 = pd.read_csv(\"./Data/diseaseData15.csv\",encoding = \"ISO-8859-1\")\n",
    "dData9 = pd.read_csv(\"./Data/diseaseData16.csv\",encoding = \"ISO-8859-1\")\n",
    "dData10 = pd.read_csv(\"./Data/diseaseData17.csv\",encoding = \"ISO-8859-1\")\n",
    "dData11 = pd.read_csv(\"./Data/diseaseData18.csv\",encoding = \"ISO-8859-1\")\n",
    "dData12 = pd.read_csv(\"./Data/diseaseData19.csv\",encoding = \"ISO-8859-1\")\n",
    "dData13 = pd.read_csv(\"./Data/diseaseData20.csv\",encoding = \"ISO-8859-1\")\n",
    "dData14 = pd.read_csv(\"./Data/diseaseData21.csv\",encoding = \"ISO-8859-1\")\n",
    "dData15 = pd.read_csv(\"./Data/diseaseData22.csv\",encoding = \"ISO-8859-1\")\n",
    "dData16 = pd.read_csv(\"./Data/diseaseData23.csv\",encoding = \"ISO-8859-1\")\n",
    "dData17 = pd.read_csv(\"./Data/diseaseData24.csv\",encoding = \"ISO-8859-1\")\n",
    "dData18 = pd.read_csv(\"./Data/diseaseData25.csv\",encoding = \"ISO-8859-1\")\n",
    "dData19 = pd.read_csv(\"./Data/diseaseData26.csv\",encoding = \"ISO-8859-1\")\n",
    "dData20 = pd.read_csv(\"./Data/diseaseData27.csv\",encoding = \"ISO-8859-1\")\n",
    "dData21 = pd.read_csv(\"./Data/diseaseData28.csv\",encoding = \"ISO-8859-1\")\n",
    "dData22 = pd.read_csv(\"./Data/diseaseData29.csv\",encoding = \"ISO-8859-1\")\n",
    "dData23 = pd.read_csv(\"./Data/diseaseData30.csv\",encoding = \"ISO-8859-1\")\n",
    "dData24 = pd.read_csv(\"./Data/diseaseData31.csv\",encoding = \"ISO-8859-1\")\n",
    "\n",
    "\n",
    "\n",
    "dData00 = pd.read_csv(\"diseaseData06.csv\",encoding = \"ISO-8859-1\")\n",
    "dData010 = pd.read_csv(\"diseaseData07.csv\",encoding = \"ISO-8859-1\")\n",
    "dData101 = pd.read_csv(\"diseaseData08.csv\",encoding = \"ISO-8859-1\")\n",
    "dData201 = pd.read_csv(\"diseaseData09.csv\",encoding = \"ISO-8859-1\")\n",
    "dData30 = pd.read_csv(\"diseaseData10.csv\",encoding = \"ISO-8859-1\")\n",
    "dData40 = pd.read_csv(\"diseaseData11.csv\",encoding = \"ISO-8859-1\")\n",
    "dData50 = pd.read_csv(\"diseaseData12.csv\",encoding = \"ISO-8859-1\")\n",
    "dData60 = pd.read_csv(\"diseaseData13.csv\",encoding = \"ISO-8859-1\")\n",
    "dData70 = pd.read_csv(\"diseaseData14.csv\",encoding = \"ISO-8859-1\")\n",
    "dData80 = pd.read_csv(\"diseaseData15.csv\",encoding = \"ISO-8859-1\")\n",
    "dData90 = pd.read_csv(\"diseaseData16.csv\",encoding = \"ISO-8859-1\")\n",
    "dData100 = pd.read_csv(\"diseaseData17.csv\",encoding = \"ISO-8859-1\")\n",
    "dData110 = pd.read_csv(\"diseaseData18.csv\",encoding = \"ISO-8859-1\")\n",
    "dData120 = pd.read_csv(\"diseaseData19.csv\",encoding = \"ISO-8859-1\")\n",
    "dData130 = pd.read_csv(\"diseaseData20.csv\",encoding = \"ISO-8859-1\")\n",
    "dData140 = pd.read_csv(\"diseaseData21.csv\",encoding = \"ISO-8859-1\")\n",
    "dData150 = pd.read_csv(\"diseaseData22.csv\",encoding = \"ISO-8859-1\")\n",
    "dData160 = pd.read_csv(\"diseaseData23.csv\",encoding = \"ISO-8859-1\")\n",
    "dData170 = pd.read_csv(\"diseaseData24.csv\",encoding = \"ISO-8859-1\")\n",
    "dData180 = pd.read_csv(\"diseaseData25.csv\",encoding = \"ISO-8859-1\")\n",
    "dData190 = pd.read_csv(\"diseaseData26.csv\",encoding = \"ISO-8859-1\")\n",
    "dData200 = pd.read_csv(\"diseaseData27.csv\",encoding = \"ISO-8859-1\")\n",
    "dData210 = pd.read_csv(\"diseaseData28.csv\",encoding = \"ISO-8859-1\")\n",
    "dData220 = pd.read_csv(\"diseaseData29.csv\",encoding = \"ISO-8859-1\")\n",
    "dData230 = pd.read_csv(\"diseaseData30.csv\",encoding = \"ISO-8859-1\")\n",
    "dData240 = pd.read_csv(\"diseaseData31.csv\",encoding = \"ISO-8859-1\")"
   ]
  },
  {
   "cell_type": "code",
   "execution_count": null,
   "metadata": {
    "collapsed": false
   },
   "outputs": [],
   "source": []
  },
  {
   "cell_type": "code",
   "execution_count": 13,
   "metadata": {
    "collapsed": false
   },
   "outputs": [],
   "source": [
    "dt =[]\n",
    "dt = dData0.append(dData01)\n",
    "dt = dt.append(dData1)\n",
    "dt = dt.append(dData2)\n",
    "dt = dt.append(dData3)\n",
    "dt = dt.append(dData4)\n",
    "dt = dt.append(dData5)\n",
    "dt = dt.append(dData6)\n",
    "dt = dt.append(dData7)\n",
    "dt = dt.append(dData8)\n",
    "dt = dt.append(dData9)\n",
    "dt = dt.append(dData10)\n",
    "dt = dt.append(dData11)\n",
    "dt = dt.append(dData12)\n",
    "dt = dt.append(dData13)\n",
    "dt = dt.append(dData14)\n",
    "dt = dt.append(dData15)\n",
    "dt = dt.append(dData16)\n",
    "dt = dt.append(dData17)\n",
    "dt = dt.append(dData18)\n",
    "dt = dt.append(dData19)\n",
    "dt = dt.append(dData20)\n",
    "dt = dt.append(dData21)\n",
    "dt = dt.append(dData22)\n",
    "dt = dt.append(dData23)\n",
    "dt = dt.append(dData24)\n",
    "\n",
    "\n",
    "\n",
    "\n",
    "dt = dt.append(dData00)\n",
    "dt = dt.append(dData010)\n",
    "dt = dt.append(dData101)\n",
    "dt = dt.append(dData201)\n",
    "dt = dt.append(dData30)\n",
    "dt = dt.append(dData40)\n",
    "dt = dt.append(dData50)\n",
    "dt = dt.append(dData60)\n",
    "dt = dt.append(dData70)\n",
    "dt = dt.append(dData80)\n",
    "dt = dt.append(dData90)\n",
    "dt = dt.append(dData100)\n",
    "dt = dt.append(dData110)\n",
    "dt = dt.append(dData120)\n",
    "dt = dt.append(dData130)\n",
    "dt = dt.append(dData140)\n",
    "dt = dt.append(dData150)\n",
    "dt = dt.append(dData160)\n",
    "dt = dt.append(dData170)\n",
    "dt = dt.append(dData180)\n",
    "dt = dt.append(dData190)\n",
    "dt = dt.append(dData200)\n",
    "dt = dt.append(dData210)\n",
    "dt = dt.append(dData220)\n",
    "dt = dt.append(dData230)\n",
    "dt = dt.append(dData240)"
   ]
  },
  {
   "cell_type": "code",
   "execution_count": null,
   "metadata": {
    "collapsed": false
   },
   "outputs": [],
   "source": []
  },
  {
   "cell_type": "code",
   "execution_count": 5,
   "metadata": {
    "collapsed": false
   },
   "outputs": [],
   "source": [
    "\n",
    "\n",
    "longLan = pd.read_csv(\"ltlgn.csv\",encoding = \"ISO-8859-1\")\n"
   ]
  },
  {
   "cell_type": "code",
   "execution_count": 7,
   "metadata": {
    "collapsed": true
   },
   "outputs": [],
   "source": [
    "import csv\n",
    "with open('Newlonglan.csv','r') as in_file, open('ltlgn.csv','w') as out_file:\n",
    "    seen = set() # set for fast O(1) amortized lookup\n",
    "    for line in in_file:\n",
    "        if line in seen: continue # skip duplicate\n",
    "\n",
    "        seen.add(line)\n",
    "        out_file.write(line)\n",
    "        \n",
    "\n"
   ]
  },
  {
   "cell_type": "code",
   "execution_count": 14,
   "metadata": {
    "collapsed": true
   },
   "outputs": [],
   "source": [
    "toclean = pd.read_csv('longlan.csv')\n",
    "deduped = toclean.drop_duplicates(['city','state'])\n",
    "\n"
   ]
  },
  {
   "cell_type": "code",
   "execution_count": null,
   "metadata": {
    "collapsed": false
   },
   "outputs": [],
   "source": []
  },
  {
   "cell_type": "code",
   "execution_count": 15,
   "metadata": {
    "collapsed": false
   },
   "outputs": [],
   "source": [
    "cities = list(deduped['city'])\n",
    "states = list(deduped['state'])\n",
    "location = []\n",
    "for i in range(0,len(cities)):\n",
    "    location.append(cities[i]+(', ')+(states[i]))\n",
    "dCities = []\n",
    "for i in range(0,len(dt)):\n",
    "    dCities.append(dt.values[i][3])"
   ]
  },
  {
   "cell_type": "code",
   "execution_count": 29,
   "metadata": {
    "collapsed": false
   },
   "outputs": [
    {
     "data": {
      "text/plain": [
       "1"
      ]
     },
     "execution_count": 29,
     "metadata": {},
     "output_type": "execute_result"
    }
   ],
   "source": [
    "Y = 0\n",
    "if dt.values[i][3] in location:\n",
    "    Y = 1\n",
    "Y"
   ]
  },
  {
   "cell_type": "code",
   "execution_count": 11,
   "metadata": {
    "collapsed": false
   },
   "outputs": [
    {
     "data": {
      "text/plain": [
       "'click here to support nicole  high school senior  was diagnosed with lymphoma cancer and is bei... https://t.co/iufbrhlxn9 via @boosterllc'"
      ]
     },
     "execution_count": 11,
     "metadata": {},
     "output_type": "execute_result"
    }
   ],
   "source": [
    "\n",
    "dt.values[1][2]"
   ]
  },
  {
   "cell_type": "code",
   "execution_count": null,
   "metadata": {
    "collapsed": false
   },
   "outputs": [],
   "source": [
    "\n",
    "import csv \n",
    "\n",
    "with open('diseaseDatalonglan.csv', 'w') as file: \n",
    "    fieldnames = ['userId','keyword','content', 'timestamp','location','long', 'lan', 'diseaseName']\n",
    "    writer = csv.DictWriter(file, fieldnames=fieldnames)\n",
    "    writer.writeheader()\n",
    "    tLen = len(dt)\n",
    "    cLen = len(deduped)\n",
    "    cityIndex = [len(deduped)]\n",
    "    for i in range(0,tLen):\n",
    "        if dt.values[i][1].find('add') == -1:\n",
    "            if dt.values[i][4] in location:\n",
    "                writer.writerow({\n",
    "                             'userId': dt.values[i][0],\n",
    "                             'keyword': dt.values[i][1].replace(\"{\",\"\").replace(\"}\",\"\").replace(\"'\",\"\"), \n",
    "                              'content': dt.values[i][2].replace(',', \" \"),\n",
    "                             'timestamp': dt.values[i][3], \n",
    "                             'location': dt.values[i][4],\n",
    "                             'lan': deduped.values[location.index(dt.values[i][4])][0],\n",
    "                             'long': deduped.values[location.index(dt.values[i][4])][1],\n",
    "                            'diseaseName': dt.values[i][5]})\n",
    "            else:\n",
    "                writer.writerow({\n",
    "                        'userId': dt.values[i][0],\n",
    "                         'keyword': dt.values[i][1].replace(\"{\",\"\").replace(\"}\",\"\").replace(\"'\",\"\"), \n",
    "                         'content': dt.values[i][2],\n",
    "                         'timestamp': dt.values[i][3], \n",
    "                         'location': dt.values[i][4],\n",
    "                         'lan': '',\n",
    "                         'long': '',\n",
    "                        'diseaseName': dt.values[i][5]})\n",
    "\n",
    "\n",
    "\n",
    "\n"
   ]
  },
  {
   "cell_type": "code",
   "execution_count": 16,
   "metadata": {
    "collapsed": false
   },
   "outputs": [
    {
     "data": {
      "text/plain": [
       "array(['kcorr54', \"{'chemo'}\",\n",
       "       \"friend's,chemo,was,$20,000,for,4,weeks,,5,rounds,had,stem,cell,treatment,too,in,ð\\x9f\\x87¨ð\\x9f\\x87¦all,free.,wish,you,could,come,here.@kreativekell,@marstu67\",\n",
       "       'Fri Jan 06 17:42:49 CST 2017', 'Vancouver, British Columbia',\n",
       "       'cancer'], dtype=object)"
      ]
     },
     "execution_count": 16,
     "metadata": {},
     "output_type": "execute_result"
    }
   ],
   "source": [
    "dt.values[0]"
   ]
  },
  {
   "cell_type": "code",
   "execution_count": 15,
   "metadata": {
    "collapsed": false
   },
   "outputs": [
    {
     "ename": "KeyboardInterrupt",
     "evalue": "",
     "output_type": "error",
     "traceback": [
      "\u001b[0;31m---------------------------------------------------------------------------\u001b[0m",
      "\u001b[0;31mKeyboardInterrupt\u001b[0m                         Traceback (most recent call last)",
      "\u001b[0;32m<ipython-input-15-261a521be01d>\u001b[0m in \u001b[0;36m<module>\u001b[0;34m()\u001b[0m\n\u001b[1;32m     11\u001b[0m                     \u001b[0;34m'userId'\u001b[0m\u001b[0;34m:\u001b[0m\u001b[0mdt\u001b[0m\u001b[0;34m.\u001b[0m\u001b[0mvalues\u001b[0m\u001b[0;34m[\u001b[0m\u001b[0mi\u001b[0m\u001b[0;34m]\u001b[0m\u001b[0;34m[\u001b[0m\u001b[0;36m0\u001b[0m\u001b[0;34m]\u001b[0m\u001b[0;34m,\u001b[0m\u001b[0;34m\u001b[0m\u001b[0m\n\u001b[1;32m     12\u001b[0m                     \u001b[0;34m'content'\u001b[0m\u001b[0;34m:\u001b[0m \u001b[0mdt\u001b[0m\u001b[0;34m.\u001b[0m\u001b[0mvalues\u001b[0m\u001b[0;34m[\u001b[0m\u001b[0mi\u001b[0m\u001b[0;34m]\u001b[0m\u001b[0;34m[\u001b[0m\u001b[0;36m2\u001b[0m\u001b[0;34m]\u001b[0m\u001b[0;34m,\u001b[0m\u001b[0;34m\u001b[0m\u001b[0m\n\u001b[0;32m---> 13\u001b[0;31m                              \u001b[0;34m'keyword'\u001b[0m\u001b[0;34m:\u001b[0m \u001b[0mdt\u001b[0m\u001b[0;34m.\u001b[0m\u001b[0mvalues\u001b[0m\u001b[0;34m[\u001b[0m\u001b[0mi\u001b[0m\u001b[0;34m]\u001b[0m\u001b[0;34m[\u001b[0m\u001b[0;36m1\u001b[0m\u001b[0;34m]\u001b[0m\u001b[0;34m.\u001b[0m\u001b[0mreplace\u001b[0m\u001b[0;34m(\u001b[0m\u001b[0;34m\"{\"\u001b[0m\u001b[0;34m,\u001b[0m\u001b[0;34m\"\"\u001b[0m\u001b[0;34m)\u001b[0m\u001b[0;34m.\u001b[0m\u001b[0mreplace\u001b[0m\u001b[0;34m(\u001b[0m\u001b[0;34m\"}\"\u001b[0m\u001b[0;34m,\u001b[0m\u001b[0;34m\"\"\u001b[0m\u001b[0;34m)\u001b[0m\u001b[0;34m.\u001b[0m\u001b[0mreplace\u001b[0m\u001b[0;34m(\u001b[0m\u001b[0;34m\"'\"\u001b[0m\u001b[0;34m,\u001b[0m\u001b[0;34m\"\"\u001b[0m\u001b[0;34m)\u001b[0m\u001b[0;34m,\u001b[0m\u001b[0;34m\u001b[0m\u001b[0m\n\u001b[0m\u001b[1;32m     14\u001b[0m                              \u001b[0;34m'timestamp'\u001b[0m\u001b[0;34m:\u001b[0m \u001b[0mdt\u001b[0m\u001b[0;34m.\u001b[0m\u001b[0mvalues\u001b[0m\u001b[0;34m[\u001b[0m\u001b[0mi\u001b[0m\u001b[0;34m]\u001b[0m\u001b[0;34m[\u001b[0m\u001b[0;36m3\u001b[0m\u001b[0;34m]\u001b[0m\u001b[0;34m,\u001b[0m\u001b[0;34m\u001b[0m\u001b[0m\n\u001b[1;32m     15\u001b[0m                              \u001b[0;34m'location'\u001b[0m\u001b[0;34m:\u001b[0m \u001b[0mdt\u001b[0m\u001b[0;34m.\u001b[0m\u001b[0mvalues\u001b[0m\u001b[0;34m[\u001b[0m\u001b[0mi\u001b[0m\u001b[0;34m]\u001b[0m\u001b[0;34m[\u001b[0m\u001b[0;36m4\u001b[0m\u001b[0;34m]\u001b[0m\u001b[0;34m,\u001b[0m\u001b[0;34m\u001b[0m\u001b[0m\n",
      "\u001b[0;31mKeyboardInterrupt\u001b[0m: "
     ]
    }
   ],
   "source": [
    "import csv\n",
    "\n",
    "with open('diseaseData.csv', 'w') as csvfile: \n",
    "    fieldnames = ['userId','keyword', 'content', 'timestamp','location','diseaseName']\n",
    "    writer = csv.DictWriter(csvfile, fieldnames=fieldnames)\n",
    "    writer.writeheader()\n",
    "    length = len(dt)\n",
    "    for i in range(0,length):\n",
    "        if dt.values[i][1].find('add') == -1:\n",
    "            writer.writerow({\n",
    "                    'userId':dt.values[i][0],\n",
    "                    'content': dt.values[i][2], \n",
    "                             'keyword': dt.values[i][1].replace(\"{\",\"\").replace(\"}\",\"\").replace(\"'\",\"\"), \n",
    "                             'timestamp': dt.values[i][3], \n",
    "                             'location': dt.values[i][4],\n",
    "                            'diseaseName': dt.values[i][5]})"
   ]
  },
  {
   "cell_type": "code",
   "execution_count": 37,
   "metadata": {
    "collapsed": false
   },
   "outputs": [
    {
     "data": {
      "text/plain": [
       "\"{'lymphoma'}\""
      ]
     },
     "execution_count": 37,
     "metadata": {},
     "output_type": "execute_result"
    }
   ],
   "source": [
    "dt.values[1][1]"
   ]
  },
  {
   "cell_type": "code",
   "execution_count": 26,
   "metadata": {
    "collapsed": false
   },
   "outputs": [],
   "source": [
    "addValue = []\n",
    "length = len(dt)\n",
    "for i in range(0,length):\n",
    "    if dt.values[i][0].find('add') == -1:\n",
    "        addValue.append(dt.values[i][0])\n",
    "        "
   ]
  },
  {
   "cell_type": "code",
   "execution_count": 27,
   "metadata": {
    "collapsed": false
   },
   "outputs": [
    {
     "data": {
      "text/plain": [
       "133214"
      ]
     },
     "execution_count": 27,
     "metadata": {},
     "output_type": "execute_result"
    }
   ],
   "source": [
    "len(addValue)"
   ]
  },
  {
   "cell_type": "code",
   "execution_count": 32,
   "metadata": {
    "collapsed": false
   },
   "outputs": [],
   "source": [
    "data = pd.read_csv(\"./diseaseUserData-2.csv\",encoding = \"ISO-8859-1\")"
   ]
  },
  {
   "cell_type": "code",
   "execution_count": 33,
   "metadata": {
    "collapsed": false
   },
   "outputs": [],
   "source": [
    "len(data.userId)\n",
    "cnt = []\n",
    "temp = list(data.userId);\n",
    "for i in range(0,len(temp)):\n",
    "    if temp[i] == \"kcorr54\":\n",
    "        cnt.append(i)"
   ]
  },
  {
   "cell_type": "code",
   "execution_count": 34,
   "metadata": {
    "collapsed": false
   },
   "outputs": [
    {
     "data": {
      "text/plain": [
       "[0, 468]"
      ]
     },
     "execution_count": 34,
     "metadata": {},
     "output_type": "execute_result"
    }
   ],
   "source": [
    "cnt"
   ]
  },
  {
   "cell_type": "code",
   "execution_count": 3,
   "metadata": {
    "collapsed": false
   },
   "outputs": [],
   "source": [
    "test = pd.read_csv(\"./test.csv\",encoding = \"ISO-8859-1\")"
   ]
  },
  {
   "cell_type": "code",
   "execution_count": 4,
   "metadata": {
    "collapsed": false
   },
   "outputs": [
    {
     "data": {
      "text/plain": [
       "array(['kcorr54', 'chemo',\n",
       "       \"friend's,chemo,was,$20,000,for,4,weeks,,5,rounds,had,stem,cell,treatment,too,in,Ì¡ï¿½ï¿½ï¿½ï¿½ï¿½ï¿½Ì¡ï¿½ï¿½ï¿½ï¿½ï¿½_all,free.,wish,you,could,come,here.@kreativekell,@marstu67\",\n",
       "       'Fri Jan 06 17:42:49 CST 2017', 'Vancouver, British Columbia',\n",
       "       'cancer'], dtype=object)"
      ]
     },
     "execution_count": 4,
     "metadata": {},
     "output_type": "execute_result"
    }
   ],
   "source": [
    "test.values[0]"
   ]
  },
  {
   "cell_type": "code",
   "execution_count": 9,
   "metadata": {
    "collapsed": true
   },
   "outputs": [],
   "source": [
    "\n",
    "for i in range(0,len(test)):\n",
    "    test.values[i][2] = test.values[i][2].replace(',', \" \");"
   ]
  },
  {
   "cell_type": "code",
   "execution_count": 12,
   "metadata": {
    "collapsed": false
   },
   "outputs": [],
   "source": [
    "import csv\n",
    "\n",
    "with open('diseaseData.csv', 'w') as csvfile: \n",
    "    fieldnames = ['userId','keyword', 'content', 'timestamp','location','diseaseName']\n",
    "    writer = csv.DictWriter(csvfile, fieldnames=fieldnames)\n",
    "    writer.writeheader()\n",
    "    length = len(test)\n",
    "    for i in range(0,length):\n",
    "        writer.writerow({\n",
    "                'userId':test.values[i][0],\n",
    "                'content': test.values[i][2], \n",
    "                         'keyword': test.values[i][1], \n",
    "                         'timestamp': test.values[i][3], \n",
    "                         'location': test.values[i][4],\n",
    "                        'diseaseName': test.values[i][5]})"
   ]
  },
  {
   "cell_type": "code",
   "execution_count": 15,
   "metadata": {
    "collapsed": false
   },
   "outputs": [],
   "source": [
    "import json \n",
    "\n",
    "with open(\"/Users/soniabaee/Desktop/missLocation.json\") as json_data:\n",
    "    d = json.load(json_data)"
   ]
  },
  {
   "cell_type": "code",
   "execution_count": 27,
   "metadata": {
    "collapsed": false
   },
   "outputs": [
    {
     "data": {
      "text/plain": [
       "True"
      ]
     },
     "execution_count": 27,
     "metadata": {},
     "output_type": "execute_result"
    }
   ],
   "source": []
  },
  {
   "cell_type": "code",
   "execution_count": 28,
   "metadata": {
    "collapsed": false
   },
   "outputs": [
    {
     "ename": "SyntaxError",
     "evalue": "invalid syntax (<ipython-input-28-a0a6da3761df>, line 6)",
     "output_type": "error",
     "traceback": [
      "\u001b[0;36m  File \u001b[0;32m\"<ipython-input-28-a0a6da3761df>\"\u001b[0;36m, line \u001b[0;32m6\u001b[0m\n\u001b[0;31m    else if longlan.values[i][4] == \"Kelowna, British Columbia\":\u001b[0m\n\u001b[0m       ^\u001b[0m\n\u001b[0;31mSyntaxError\u001b[0m\u001b[0;31m:\u001b[0m invalid syntax\n"
     ]
    }
   ],
   "source": []
  },
  {
   "cell_type": "code",
   "execution_count": 10,
   "metadata": {
    "collapsed": false
   },
   "outputs": [
    {
     "data": {
      "text/plain": [
       "[]"
      ]
     },
     "execution_count": 10,
     "metadata": {},
     "output_type": "execute_result"
    }
   ],
   "source": []
  },
  {
   "cell_type": "code",
   "execution_count": null,
   "metadata": {
    "collapsed": true
   },
   "outputs": [],
   "source": []
  }
 ],
 "metadata": {
  "kernelspec": {
   "display_name": "Python 3",
   "language": "python",
   "name": "python3"
  },
  "language_info": {
   "codemirror_mode": {
    "name": "ipython",
    "version": 3
   },
   "file_extension": ".py",
   "mimetype": "text/x-python",
   "name": "python",
   "nbconvert_exporter": "python",
   "pygments_lexer": "ipython3",
   "version": "3.5.1"
  }
 },
 "nbformat": 4,
 "nbformat_minor": 0
}
